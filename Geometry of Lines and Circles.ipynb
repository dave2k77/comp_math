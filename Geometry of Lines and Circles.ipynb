{
 "cells": [
  {
   "cell_type": "markdown",
   "metadata": {},
   "source": [
    "# Pure Mathematics Series I"
   ]
  },
  {
   "cell_type": "markdown",
   "metadata": {},
   "source": [
    "## Coordinate Geometry\n",
    "\n",
    "1. The gradient of a line and its general equation. Understanding linear approximations.\n",
    "    \n",
    "2. Computation of the mid-point and length of a line segment.\n",
    "    \n",
    "3. Intersecting lines; Parallel and Perpendicular lines.\n",
    "    \n",
    "4. General equation of circles.\n",
    "    \n",
    "5. Intersecting lines and circles; Tangents and Normals to circles.\n",
    "    \n",
    "6. Circle theorems, proofs and circle-triangle relationships.\n",
    "    \n",
    "7. Introduction to radian measure and other circular measures."
   ]
  },
  {
   "cell_type": "markdown",
   "metadata": {},
   "source": [
    "### The General Equation of a Line and Linear Approximations"
   ]
  },
  {
   "cell_type": "markdown",
   "metadata": {},
   "source": [
    "**Learning Objectives:**\n",
    "\n",
    "   1. Define the gradient of a line as the _steepness_ of ascent or descent as the line is traversed. In the case of a vector, it is a measure of the _direction_ of the vector. The magnitude of the gradient is determined by $m = \\frac{\\Delta y}{\\Delta x}$.\n",
    "    \n",
    "   2. Model linear relationships using the general linear model: $\\Delta y = m \\cdot \\Delta x$ or $(y - y_1) = m \\cdot (x - x_1)$.\n",
    "   \n",
    "   3. Determine the mid-point between two points in the plane using the equation: $(x_m, y_m) = (\\frac{\\Delta x}{2}, \\frac{\\Delta y}{2})$\n",
    "   \n",
    "   4. Determine the linear (euclidean) distance between two points, $P$ and $Q$, in the plane using the equation: $d_{PQ} = \\sqrt {{\\Delta x}^2 + {\\Delta y}^2}$. \n",
    "   \n",
    "   5. Solve problems involving parallel and perpendicular lines.\n",
    "   \n",
    "   6. Solve problems involving linear regression models and direct proportional relationships."
   ]
  },
  {
   "cell_type": "markdown",
   "metadata": {},
   "source": [
    "### The General Equation of a Circle and Circle Theorems"
   ]
  },
  {
   "cell_type": "markdown",
   "metadata": {},
   "source": [
    "**Learning Objectives:**\n",
    "\n",
    "   1. Derive the general equation of a circle $(x - a)^2 (y - b)^2 = r^2$ where $(a,b)$ is the centre of the circle and $r$ is the radius. Complete the square in $x$ and $y$ to obtain the form $x^2 + y^2 + 2gx + 2fy + c = 0$.\n",
    "   \n",
    "   2. Solve problems involving tangents and normals drawn to the circumference of a circle.\n",
    "   \n",
    "   3. Find the points of intersection of a circle with other circles and with lines.\n",
    "   \n",
    "   4. Use the circle theorems to prove properties of circles and relationships with triangles and cyclic quadrilaterals."
   ]
  }
 ],
 "metadata": {
  "kernelspec": {
   "display_name": "Python 3",
   "language": "python",
   "name": "python3"
  },
  "language_info": {
   "codemirror_mode": {
    "name": "ipython",
    "version": 3
   },
   "file_extension": ".py",
   "mimetype": "text/x-python",
   "name": "python",
   "nbconvert_exporter": "python",
   "pygments_lexer": "ipython3",
   "version": "3.8.3"
  }
 },
 "nbformat": 4,
 "nbformat_minor": 4
}
