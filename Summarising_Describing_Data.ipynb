{
 "cells": [
  {
   "cell_type": "markdown",
   "metadata": {},
   "source": [
    "# Probability & Statistics Series (Chapter 2)\n",
    "\n",
    "## Learning and understanding statistics with Python"
   ]
  },
  {
   "cell_type": "markdown",
   "metadata": {},
   "source": [
    "----"
   ]
  },
  {
   "cell_type": "markdown",
   "metadata": {},
   "source": [
    "### Summary Statistics: Measures of Central Tendency"
   ]
  },
  {
   "cell_type": "markdown",
   "metadata": {},
   "source": [
    "In this section we will discuss three statistical functions that are used to estimate the centre of a dataset and hence summarise it. These are the `mean`, `median` and the `mode`. We will implement them in the Python programming language and use them to solve problems in statistical data analysis."
   ]
  },
  {
   "cell_type": "markdown",
   "metadata": {},
   "source": [
    "**The mean**"
   ]
  },
  {
   "cell_type": "markdown",
   "metadata": {},
   "source": [
    "The mean value of a dataset is defined as the sum of all the data values divided by the size (number of data values) of the data set.\n",
    "\n",
    "Let $\\bar x$ be the mean of some data set $X$ of size $N$, then $\\bar x = \\frac{\\sum{X}}{N}$.\n",
    "\n",
    "*Example 1*\n",
    "\n",
    "Let $X = [2, 4, 6, 9, 3, 2, 9, 1]$. Then the mean $\\bar x = \\frac{2 + 4 + 6 + 9 + 3 + 2 + 9 + 1}{8} = \\frac{36}{8} = 4.5$."
   ]
  },
  {
   "cell_type": "markdown",
   "metadata": {},
   "source": [
    "In python we can define a function `mean_value()` to calculate the mean of the dataset `X` as follows:"
   ]
  },
  {
   "cell_type": "code",
   "execution_count": 1,
   "metadata": {},
   "outputs": [],
   "source": [
    "def mean_func(dataset):\n",
    "    # initialise a variable to store the sum of the values in the dataset\n",
    "    sum_value = 0\n",
    "    \n",
    "    # loop through all the values in the dataset, adding each value to the variable sum_value.\n",
    "    for value in dataset:\n",
    "        sum_value += value\n",
    "        \n",
    "    # define a variable mean_value to store the computed mean of the numbers: \n",
    "    # sum_of_the_values / number_of_values_in_the_dataset\n",
    "    mean_value = sum_value / len(dataset)\n",
    "    \n",
    "    # return the mean value\n",
    "    return mean_value"
   ]
  },
  {
   "cell_type": "markdown",
   "metadata": {},
   "source": [
    "Let us test out our function on the example dataset  in `Example 1` above."
   ]
  },
  {
   "cell_type": "code",
   "execution_count": 2,
   "metadata": {},
   "outputs": [
    {
     "name": "stdout",
     "output_type": "stream",
     "text": [
      "4.5\n"
     ]
    }
   ],
   "source": [
    "# Define X as a list of numbers as shown in Example 1 above.\n",
    "X = [2, 4, 6, 9, 3, 2, 9, 1]\n",
    "\n",
    "# Create a variable mean_of_X to store the value returned by our mean_value() function.\n",
    "mean_of_X = mean_func(X)\n",
    "\n",
    "# print out the value of mean_of_X.\n",
    "print(mean_of_X)"
   ]
  },
  {
   "cell_type": "markdown",
   "metadata": {},
   "source": [
    "Let us try out a few more examples here before we move on.\n",
    "\n",
    "*Example 2*\n",
    "\n",
    "Find the mean of the dataset $X_1 = [5, 6, 2, 0, 5, 8, 9, 10, 4]$\n",
    "\n",
    "_Answer_\n",
    "\n",
    "$\\bar x_1 = \\frac{\\sum{X_1}}{9} = \\frac{49}{9} \\approx 5.4$\n",
    "\n",
    "*Example 3*\n",
    "\n",
    "Find the mean of the dataset $X_2 = [23, 14, 6, 19, 50, 42, 16, 7, 15, 22, 8]$\n",
    "\n",
    "_Answer_\n",
    "\n",
    "$\\bar x_2 = \\frac{\\sum{X_2}}{11} = \\frac{222}{11} \\approx 20.2$"
   ]
  },
  {
   "cell_type": "markdown",
   "metadata": {},
   "source": [
    "Using our python mean function, we have the following:"
   ]
  },
  {
   "cell_type": "code",
   "execution_count": 3,
   "metadata": {},
   "outputs": [
    {
     "name": "stdout",
     "output_type": "stream",
     "text": [
      "5.444444444444445\n",
      "20.181818181818183\n"
     ]
    }
   ],
   "source": [
    "# Dataset for Example 2\n",
    "X1 = [5, 6, 2, 0, 5, 8, 9, 10, 4]\n",
    "\n",
    "# Dataset for Example 3\n",
    "X2 = [23, 14, 6, 19, 50, 42, 16,7, 15, 22, 8]\n",
    "\n",
    "# Compute the mean for dataset X1\n",
    "Ex2Answer = mean_func(X1)\n",
    "\n",
    "# Compute the mean for dataset X2\n",
    "Ex3Answer = mean_func(X2)\n",
    "\n",
    "print(Ex2Answer)\n",
    "print(Ex3Answer)"
   ]
  },
  {
   "cell_type": "markdown",
   "metadata": {},
   "source": [
    "**The median**"
   ]
  },
  {
   "cell_type": "markdown",
   "metadata": {},
   "source": [
    "The `median` of a dataset is the middle (positional) value of aa ordered (sorted) dataset.\n",
    "\n",
    "*Example 4*\n",
    "\n",
    "Consider the datasets \n",
    "\n",
    "$X = [5, 6, 2, 0, 5, 8, 9, 10, 4]$\n",
    "\n",
    "and \n",
    "\n",
    "$Y = [23, 14, 6, 19, 50, 42, 16,7, 22, 8]$\n",
    "\n",
    "The median of X is the middle value of X sorted in ascending order:\n",
    "\n",
    "Sorted $X = [0, 2, 4, 5, 5, 6, 8, 9, 10]$\n",
    "\n",
    "median = 5 (5 divides the entire dataset into two halves of equal lengths)\n",
    "\n",
    "The median of Y is the middle value of Y sorted in ascending order:\n",
    "\n",
    "Sorted $Y = [6, 7, 8, 14, 16, 19, 22, 23, 42, 50]$\n",
    "\n",
    "median = 17.5 (the value right in between 16 and 19)"
   ]
  },
  {
   "cell_type": "markdown",
   "metadata": {},
   "source": [
    "In python we can write our own median_func() that accepts a dataset and returns the median value. There are two cases to consider here: (1) a dataset with an odd number length and (2) a dataset with an even number length. We will use an `if-else` statement to decide on the action to take in each case."
   ]
  },
  {
   "cell_type": "code",
   "execution_count": 4,
   "metadata": {},
   "outputs": [],
   "source": [
    "def median_func(dataset):\n",
    "    # compute the size of the dataset\n",
    "    dataset_size = len(dataset)\n",
    "    \n",
    "    # sort dataset\n",
    "    dataset = sorted(dataset)\n",
    "    left = dataset_size // 2 - 1\n",
    "    right = left + 1\n",
    "    \n",
    "    # check case: (1) or (2)\n",
    "    if (dataset_size % 2 == 0): # case (1)\n",
    "        median_value = (dataset[left] + dataset[right])/2\n",
    "    else: # case (2)\n",
    "        median_value = dataset[left]\n",
    "    return median_value"
   ]
  },
  {
   "cell_type": "markdown",
   "metadata": {},
   "source": [
    "Let us now test out our `median` function on our datasets $X$ and $Y$."
   ]
  },
  {
   "cell_type": "code",
   "execution_count": 5,
   "metadata": {},
   "outputs": [
    {
     "name": "stdout",
     "output_type": "stream",
     "text": [
      "5\n",
      "17.5\n"
     ]
    }
   ],
   "source": [
    "X3 = [5,6,2,0,5,8,9,10,4]\n",
    "X4 = [23,14,6,19,50,42,16,7,22,8]\n",
    "\n",
    "median_x3 = median_func(X3)\n",
    "median_x4 = median_func(X4)\n",
    "\n",
    "print(median_x3)\n",
    "print(median_x4)"
   ]
  },
  {
   "cell_type": "markdown",
   "metadata": {},
   "source": [
    "**The mode**"
   ]
  },
  {
   "cell_type": "markdown",
   "metadata": {},
   "source": [
    "The `mode` of a dataset is the data value that occurs most frequently in the dataset. For example, let us consider the dataset $𝑋=[5,6,2,0,5,8,9,10,4]$. In $X$, the data value 5 occurs twices as many times as any other value in the dataset so the `mode` of $X$ is 5. Let's try to write a python function to compute the mode of any dataset. The strategy we will use here is to generate a frequency distribution of the values in the dataset and then return the data value with the highest frequency. The python dictionary data structure is a great way to do this."
   ]
  },
  {
   "cell_type": "code",
   "execution_count": 6,
   "metadata": {},
   "outputs": [],
   "source": [
    "def mode_func(dataset):\n",
    "    \n",
    "    # declare an empty dictionary\n",
    "    freq_dist = {}\n",
    "    \n",
    "    # build the frequency distribution\n",
    "    for data in dataset:\n",
    "        if data in freq_dist:\n",
    "            freq_dist[data] += 1\n",
    "        else:\n",
    "            freq_dist[data] = 1\n",
    "    \n",
    "    # initialise a variables to store the highest frequency found and the data value it corresponds to. \n",
    "    largest_value = 0\n",
    "    mode_value = None\n",
    "    \n",
    "    # loop through the frequency distribution to find the highest frequency data value.\n",
    "    for data, value in freq_dist.items():\n",
    "        if value > largest_value:\n",
    "            largest_value = value\n",
    "            mode_value = data\n",
    "            \n",
    "    return mode_value"
   ]
  },
  {
   "cell_type": "markdown",
   "metadata": {},
   "source": [
    "Let us now test out our mode function on the datset $X3$."
   ]
  },
  {
   "cell_type": "code",
   "execution_count": 7,
   "metadata": {},
   "outputs": [
    {
     "name": "stdout",
     "output_type": "stream",
     "text": [
      "5\n"
     ]
    }
   ],
   "source": [
    "mode_x3 = mode_func(X3)\n",
    "print(mode_x3)"
   ]
  },
  {
   "cell_type": "markdown",
   "metadata": {},
   "source": [
    "To summarise, the `mean`, `median` and `mode` are summary statistics use to summarise data. They are commonly referred to as `measures of central tendency` as they give a measure or estimate of the central value of the dataset. In some cases, the are equivalent but mostly they will differ. depending on the nature of the dataset, one measure of central tendency may be more suitable than the other. We will explore this further later."
   ]
  },
  {
   "cell_type": "markdown",
   "metadata": {},
   "source": [
    "**Comparing measures of central tendency**"
   ]
  },
  {
   "cell_type": "markdown",
   "metadata": {},
   "source": [
    "Let us compare the mean, median and mode of the datsets $X3$ and $X4$."
   ]
  },
  {
   "cell_type": "code",
   "execution_count": 8,
   "metadata": {},
   "outputs": [],
   "source": [
    "# Dataset X3\n",
    "#X3 = [5,6,2,0,5,8,9,10,4]\n",
    "#X4 = [23,14,6,19,50,42,16,7,22,8]\n",
    "meanX3 = mean_func(X3) # 5.4\n",
    "medianX3 = median_func(X3) # 5\n",
    "modeX3 = mode_func(X3) # 5\n",
    "\n",
    "# Dataset X4\n",
    "meanX4 = mean_func(X4) # 20.7, \n",
    "medianX4 = median_func(X4) # 17.5\n",
    "modeX4 = mode_func(X4) # 23"
   ]
  },
  {
   "cell_type": "markdown",
   "metadata": {},
   "source": [
    "Now let us print out statements that communicate the comparisons for each dataset"
   ]
  },
  {
   "cell_type": "code",
   "execution_count": 9,
   "metadata": {},
   "outputs": [
    {
     "name": "stdout",
     "output_type": "stream",
     "text": [
      "The mean of the dataset X3 is 5.444444444444445, the median is 5 and the mode is 5\n",
      "The mean of the dataset X4 is 20.7, the median is 17.5 and the mode is 23\n"
     ]
    }
   ],
   "source": [
    "print(f\"The mean of the dataset X3 is {meanX3}, the median is {medianX3} and the mode is {modeX3}\")\n",
    "print(f\"The mean of the dataset X4 is {meanX4}, the median is {medianX4} and the mode is {modeX4}\")"
   ]
  },
  {
   "cell_type": "markdown",
   "metadata": {},
   "source": [
    "Notice that for $X3$, the measaures are approximatelt the same, but for $X4$, the values are quite different. The dataset $X3$ is more `normally distributed` (see more about this later), meaning that the data values are approximately evenly distributed around the mean. For $X4$, the mean lies more to the right of the centre value of the data so we say it is `skewed` (more about this later) to the left."
   ]
  },
  {
   "cell_type": "markdown",
   "metadata": {},
   "source": [
    "### Measures of Dispersion and Spread"
   ]
  },
  {
   "cell_type": "markdown",
   "metadata": {},
   "source": [
    "When we have our dataset, we can organise them into `frequency tables` and calculate averages such as the `mean`, `median` and `mode`. This insight allows us to conveniently communicate a summary of the dataset but it is fairly general giving us an idea of the centre of the dataset but nothing about how the other data points in the dataset relate to this central value. To address this issue we will now introduce the `range` that measures how wide the data is spread from the smallest to the largest value, and the `variance` and `standard deviation` which measures the variability (average separation) of the data points from the mean."
   ]
  },
  {
   "cell_type": "markdown",
   "metadata": {},
   "source": [
    "**Range**"
   ]
  },
  {
   "cell_type": "markdown",
   "metadata": {},
   "source": [
    "The `range` of a dataset is defined as the difference between the largest data point and the smallest data point in the dataset. It measures the interval over which the dataset spans.\n",
    "\n",
    "$$Range(X) = |max(X) - min(X)|$$"
   ]
  },
  {
   "cell_type": "markdown",
   "metadata": {},
   "source": [
    "**Python Implementation**"
   ]
  },
  {
   "cell_type": "code",
   "execution_count": 10,
   "metadata": {},
   "outputs": [
    {
     "data": {
      "text/plain": [
       "0.7000000000000002"
      ]
     },
     "execution_count": 10,
     "metadata": {},
     "output_type": "execute_result"
    }
   ],
   "source": [
    "# Dataset X\n",
    "X = [3.29, 3.59, 3.79, 3.75, 3.99]\n",
    "\n",
    "def data_range(X):\n",
    "    \"\"\"\n",
    "    This function takes a list of values as argument and returns the difference between\n",
    "    the largest and smallest value.\n",
    "    \"\"\"\n",
    "    return abs(max(X) - min(X))\n",
    "\n",
    "data_range(X)"
   ]
  },
  {
   "cell_type": "markdown",
   "metadata": {},
   "source": [
    "**Variance**"
   ]
  },
  {
   "cell_type": "markdown",
   "metadata": {},
   "source": [
    "We can have a good idea of how `close` the data points in the dataset are to the calculated `mean`. The variance allows us to compute the average square distance of the data points from the calculated `mean`. If the average distance of the data points is small, then we can conclude that the calculated `mean` is quite representative of the dataset and that the variability of the data points is low. If the average distance is large, then the data points are quite spread out with large variability.\n",
    "\n",
    "The sample variance, $S$, is calculated by:\n",
    "\n",
    "$$S = \\frac{\\sum_{k=1}^{n}{(x - \\bar{x})^2}}{n - 1}$$"
   ]
  },
  {
   "cell_type": "markdown",
   "metadata": {},
   "source": [
    "**Variance Algorithm**"
   ]
  },
  {
   "cell_type": "markdown",
   "metadata": {},
   "source": [
    "INPUT: \n",
    "   - $X$            -- dataset\n",
    "   - $\\bar{x}$      -- calculated mean\n",
    "\n",
    "OUTPUT:\n",
    "   - $varX$         -- calculated variance\n",
    "   \n",
    "ALGORITHMS:\n",
    "      \n",
    "   1. Calculate the sum of the squared difference $\\delta{x_i}^2 = (x_i - \\bar{x})^2$\n",
    "   \n",
    "   2. Set $varX = \\frac{\\sum_{i = 0}^{n}{\\delta{x_i}^2}}{n - 1}$\n",
    "   \n",
    "   3. Return $varX$"
   ]
  },
  {
   "cell_type": "markdown",
   "metadata": {},
   "source": [
    "**Python Implementation**"
   ]
  },
  {
   "cell_type": "code",
   "execution_count": 11,
   "metadata": {},
   "outputs": [],
   "source": [
    "def data_variance(dataset):\n",
    "    \"\"\"\n",
    "    This function takes a dataset and calculates and returns the variance.\n",
    "    \"\"\"\n",
    "    \n",
    "    # find the sum of the values in the dataset\n",
    "    sum_x = 0\n",
    "    for x in dataset:\n",
    "        sum_x += x\n",
    "    \n",
    "    # compute the mean of the dataset using the sum of the dataset\n",
    "    mean_x = sum_x / (len(dataset))\n",
    "    \n",
    "    # compute the sum of square differences\n",
    "    delta_x2 = 0\n",
    "    for x in dataset:\n",
    "        delta_x2 += (x - mean_x)**2\n",
    "    \n",
    "    # compute the variance\n",
    "    varX = delta_x2 / (len(dataset)-1)\n",
    "    \n",
    "    return varX"
   ]
  },
  {
   "cell_type": "markdown",
   "metadata": {},
   "source": [
    "**Testing the `data_variance` function**"
   ]
  },
  {
   "cell_type": "code",
   "execution_count": 12,
   "metadata": {},
   "outputs": [
    {
     "data": {
      "text/plain": [
       "0.06832000000000003"
      ]
     },
     "execution_count": 12,
     "metadata": {},
     "output_type": "execute_result"
    }
   ],
   "source": [
    "from math import sqrt\n",
    "\n",
    "# print out the variance of the dataset X\n",
    "data_variance(X)"
   ]
  },
  {
   "cell_type": "markdown",
   "metadata": {},
   "source": [
    "**Standard Deviation**"
   ]
  },
  {
   "cell_type": "markdown",
   "metadata": {},
   "source": [
    "The `standard deviation` is defined as the square root of the `variance`. Both variance and standard deviation measure the variability of the data points from the mean, however, in many cases, the standard deviation is used instead of the variance because it gives a more meaningful value of variability than the variance. Because the variance is defined as the mean square distance, it gives the average square separation of the data points from the mean, but the standard deviation gives the average separation value which in many case is more meaningful to the problem being solved. \n",
    "\n",
    "$$std(X) = \\sqrt{varX} = \\sqrt{\\frac{\\sum_{k=1}^{n}{(x - \\bar{x})^2}}{n - 1}}$$ "
   ]
  },
  {
   "cell_type": "markdown",
   "metadata": {},
   "source": [
    "**Python Implementation**"
   ]
  },
  {
   "cell_type": "code",
   "execution_count": 13,
   "metadata": {},
   "outputs": [
    {
     "data": {
      "text/plain": [
       "0.2613809480432727"
      ]
     },
     "execution_count": 13,
     "metadata": {},
     "output_type": "execute_result"
    }
   ],
   "source": [
    "# We will implement the standard deviation function as a class decorator function.\n",
    "class root_mean:\n",
    "    \"\"\"\n",
    "    This class decorator performs a square root operation on the result of a function and returns this value. \n",
    "    \"\"\"\n",
    "    def __init__(self, func):\n",
    "        self.func = func\n",
    "        \n",
    "    def __call__(self, x):\n",
    "        from math import sqrt\n",
    "        ret = sqrt(self.func(x))\n",
    "        return ret\n",
    "\n",
    "@root_mean\n",
    "def data_variance(dataset):\n",
    "    \"\"\"\n",
    "    This function takes a dataset and calculates and returns the variance.\n",
    "    \"\"\"\n",
    "    \n",
    "    # find the sum of the values in the dataset\n",
    "    sum_x = 0\n",
    "    for x in dataset:\n",
    "        sum_x += x\n",
    "    \n",
    "    # compute the mean of the dataset using the sum of the dataset\n",
    "    mean_x = sum_x / (len(dataset))\n",
    "    \n",
    "    # compute the sum of square differences\n",
    "    delta_x2 = 0\n",
    "    for x in dataset:\n",
    "        delta_x2 += (x - mean_x)**2\n",
    "    \n",
    "    # compute the variance\n",
    "    varX = delta_x2 / (len(dataset)-1)\n",
    "    \n",
    "    return varX\n",
    "\n",
    "data_variance(X)"
   ]
  },
  {
   "cell_type": "code",
   "execution_count": null,
   "metadata": {},
   "outputs": [],
   "source": []
  }
 ],
 "metadata": {
  "kernelspec": {
   "display_name": "Python 3",
   "language": "python",
   "name": "python3"
  },
  "language_info": {
   "codemirror_mode": {
    "name": "ipython",
    "version": 3
   },
   "file_extension": ".py",
   "mimetype": "text/x-python",
   "name": "python",
   "nbconvert_exporter": "python",
   "pygments_lexer": "ipython3",
   "version": "3.8.5"
  }
 },
 "nbformat": 4,
 "nbformat_minor": 4
}
