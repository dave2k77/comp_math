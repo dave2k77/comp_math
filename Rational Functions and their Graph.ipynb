{
 "cells": [
  {
   "cell_type": "markdown",
   "metadata": {},
   "source": [
    "# Understanding rational functions and their transformations\n",
    "\n",
    "## Year 12 Pure Mathematics"
   ]
  },
  {
   "cell_type": "markdown",
   "metadata": {},
   "source": [
    "The code below defines the functions that we would like to investigate in this section. These functions are:\n",
    "\n",
    "$f(x)$ = 2 + $\\frac{1}{x - 1}$\n",
    "\n",
    "$g(x)$ = 1 + $\\frac{1}{x - 1}$"
   ]
  },
  {
   "cell_type": "code",
   "execution_count": 1,
   "metadata": {},
   "outputs": [],
   "source": [
    "import matplotlib.pyplot as plt\n",
    "import numpy as np\n",
    "\n",
    "def f(x):\n",
    "    \"\"\"\n",
    "    This function implements the rational function:\n",
    "    \n",
    "                             1\n",
    "                f(x) = 2 + -------- for x != 1\n",
    "                           x - 1\n",
    "                         \n",
    "                         x = 1 is a point of discontinuity or singularity.\n",
    "    \"\"\"\n",
    "    if (x == 1):\n",
    "        return None\n",
    "    else:\n",
    "        return 2 + 1/(x - 1)\n",
    "\n",
    "def g(x):\n",
    "    \"\"\"\n",
    "    This function implements the rational function:\n",
    "    \n",
    "                               1\n",
    "                g(x) = 1 +  ------- for x != 1\n",
    "                             x - 1\n",
    "                         \n",
    "                         x = 1 is a point of discontinuity or singularity.\n",
    "    \"\"\"\n",
    "    if (x == 1):\n",
    "        return None\n",
    "    else:\n",
    "        return 1 + 1/(x-1)"
   ]
  },
  {
   "cell_type": "markdown",
   "metadata": {},
   "source": [
    "The next section contains the code for plotting the graphs on a pair of axes. *Note: the error show is just a warning by the python compiler about the point of discontinuity.*"
   ]
  },
  {
   "cell_type": "code",
   "execution_count": 2,
   "metadata": {
    "scrolled": true
   },
   "outputs": [
    {
     "data": {
      "image/png": "[encoded data removed]",
      "text/plain": [
       "<Figure size 432x288 with 1 Axes>"
      ]
     },
     "metadata": {
      "needs_background": "light"
     },
     "output_type": "display_data"
    }
   ],
   "source": [
    "x = np.arange(-25, 25) # setting my function domain from -25 through to 25.\n",
    "plt.plot(x, list(map(f, x)), c = 'red') # use different colours to distinguish between the graphs\n",
    "plt.plot(x, list(map(g, x)), c = 'blue')\n",
    "plt.xlabel('x-axis')\n",
    "plt.ylabel('$f(x)$ / $g(x)$')\n",
    "plt.title('Graph comparing the functions $f(x)$ and $g(x)$')\n",
    "plt.grid(True) # turning on the grid patterns in the graph\n",
    "plt.show() # showing the plot"
   ]
  },
  {
   "cell_type": "markdown",
   "metadata": {},
   "source": [
    "In the graph above, note that the horizontal asymptote change according to the constant part of the function. Notice that both functions have the same vertical asymptote. This is because they both have the same point of discontinuity $x = 1$."
   ]
  },
  {
   "cell_type": "markdown",
   "metadata": {},
   "source": [
    "In general a function\n",
    "\n",
    "$f(x) = \\frac{P(x)}{Q(x)}$ with $Q(x) \\ne 0$ can be written in the form $f(x)$ = $A$ + $\\frac{p(x)}{q(x)}$ with $q(x) \\ne 0$.\n",
    "\n",
    "$A$ is called the horizonal asymptote."
   ]
  },
  {
   "cell_type": "markdown",
   "metadata": {},
   "source": [
    "### Transformation of functions"
   ]
  },
  {
   "cell_type": "markdown",
   "metadata": {},
   "source": [
    "Let $y = f(x)$ and $H, h, J, j, K$ and $k$ be variations in the $f(x)$. The following descriptions are true:\n",
    "\n",
    " * Let $H(x) = f(x) + A$, and $A > 0$, then $H(x)$ is an upward (along the y-axis) translation of $f(x)$ by $A$ units. \n",
    " * Let $h(x) = f(x) - A$, and $A > 0$, then $h(x)$ is a downward (along the y-axis) translation of $f(x)$ by $A$ units.\n",
    " * Let $J(x) = f(x + A)$, and $A > 0$, then $J(x)$ is a leftward (along the x-axis) translation of $f(x)$ by $A$ units.\n",
    " * Let $j(x) = f(x - A)$, and $A > 0$, then $j(x)$ is a rightward (along the x-axis) translation of $f(x)$ by $A$ units.\n",
    " * Let $K(x) = Af(x)$, and $A > 0$, then $K(x)$ is a vertical stretch (along the y-axis) of $f(x)$ by a scale factor of $A$.\n",
    " * Let $k(x) = f(Ax)$, and $A > 0$, then $k(x)$ is a horizontal stretch (along the x-axis) of $f(x)$ by a scale factor of $A$."
   ]
  },
  {
   "cell_type": "markdown",
   "metadata": {},
   "source": [
    "Let us consider the function $p(x) = 3 + \\frac{1}{x - 2}$ where $x \\ne 2$. The code below plots the graph."
   ]
  },
  {
   "cell_type": "code",
   "execution_count": 8,
   "metadata": {},
   "outputs": [
    {
     "data": {
      "image/png": "[encoded data removed]",
      "text/plain": [
       "<Figure size 432x288 with 1 Axes>"
      ]
     },
     "metadata": {
      "needs_background": "light"
     },
     "output_type": "display_data"
    }
   ],
   "source": [
    "def p(x):\n",
    "    if (x == 2):\n",
    "        return None\n",
    "    else:\n",
    "        return 3 + 1/(x - 2)\n",
    "\n",
    "def i(x):\n",
    "    if (x == 0):\n",
    "        return None\n",
    "    else:\n",
    "        return 1/x\n",
    "    \n",
    "x = np.arange(-50, 50)\n",
    "plt.plot(x, list(map(p, x)), c = 'black')\n",
    "plt.plot(x, list(map(i, x)), c = 'green')\n",
    "plt.xlabel(\"$x$\")\n",
    "plt.ylabel(\"$p(x)$\")\n",
    "plt.title(\"Graph of the function $p(x)$\")\n",
    "plt.grid(True)\n",
    "plt.show()"
   ]
  },
  {
   "cell_type": "markdown",
   "metadata": {},
   "source": [
    "The function $i(x) = \\frac{1}{x}$ (in green) is called the parent function. So the function $p(x) = 3 + \\frac{1}{x - 2}$ (in black) represents a transformation of the parent function $i(x)$ involving an upward shift by 3 units and a rightward shift by 2 units."
   ]
  }
 ],
 "metadata": {
  "kernelspec": {
   "display_name": "Python 3",
   "language": "python",
   "name": "python3"
  },
  "language_info": {
   "codemirror_mode": {
    "name": "ipython",
    "version": 3
   },
   "file_extension": ".py",
   "mimetype": "text/x-python",
   "name": "python",
   "nbconvert_exporter": "python",
   "pygments_lexer": "ipython3",
   "version": "3.8.3"
  }
 },
 "nbformat": 4,
 "nbformat_minor": 4
}
