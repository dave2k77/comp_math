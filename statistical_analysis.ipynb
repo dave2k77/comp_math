{
 "cells": [
  {
   "cell_type": "markdown",
   "metadata": {},
   "source": [
    "# Probability & Statistics Series\n",
    "\n",
    "## Learning and understanding statistics with Python"
   ]
  },
  {
   "cell_type": "markdown",
   "metadata": {},
   "source": [
    "----"
   ]
  },
  {
   "cell_type": "markdown",
   "metadata": {},
   "source": [
    "### Summary Statistics: Measures of Central Tendency"
   ]
  },
  {
   "cell_type": "markdown",
   "metadata": {},
   "source": [
    "In this section we will discuss three statistical functions that are used to estimate the centre of a dataset and hence summarise it. These are the `mean`, `median` and the `mode`. We will implement them in the Python programming language and use them to solve problems in statistical data analysis."
   ]
  },
  {
   "cell_type": "markdown",
   "metadata": {},
   "source": [
    "**The mean**"
   ]
  },
  {
   "cell_type": "markdown",
   "metadata": {},
   "source": [
    "The mean value of a dataset is defined as the sum of all the data values divided by the size (number of data values) of the data set.\n",
    "\n",
    "Let $\\bar x$ be the mean of some data set $X$ of size $N$, then $\\bar x = \\frac{\\sum{X}}{N}$.\n",
    "\n",
    "*Example 1*\n",
    "\n",
    "Let $X = [2, 4, 6, 9, 3, 2, 9, 1]$. Then the mean $\\bar x = \\frac{2 + 4 + 6 + 9 + 3 + 2 + 9 + 1}{8} = \\frac{36}{8} = 4.5$."
   ]
  },
  {
   "cell_type": "markdown",
   "metadata": {},
   "source": [
    "In python we can define a function `mean_value()` to calculate the mean of the dataset `X` as follows:"
   ]
  },
  {
   "cell_type": "code",
   "execution_count": 1,
   "metadata": {},
   "outputs": [],
   "source": [
    "def mean_func(dataset):\n",
    "    # initialise a variable to store the sum of the values in the dataset\n",
    "    sum_value = 0\n",
    "    \n",
    "    # loop through all the values in the dataset, adding each value to the variable sum_value.\n",
    "    for value in dataset:\n",
    "        sum_value += value\n",
    "        \n",
    "    # define a variable mean_value to store the computed mean of the numbers: sum_of_the_values / number_of_values_in_the_dataset\n",
    "    mean_value = sum_value / len(dataset)\n",
    "    \n",
    "    # return the mean value\n",
    "    return mean_value"
   ]
  },
  {
   "cell_type": "markdown",
   "metadata": {},
   "source": [
    "Let us test out our function on the example dataset  in `Example 1` above."
   ]
  },
  {
   "cell_type": "code",
   "execution_count": 2,
   "metadata": {},
   "outputs": [
    {
     "name": "stdout",
     "output_type": "stream",
     "text": [
      "4.5\n"
     ]
    }
   ],
   "source": [
    "# Define X as a list of numbers as shown in Example 1 above.\n",
    "X = [2, 4, 6, 9, 3, 2, 9, 1]\n",
    "\n",
    "# Create a variable mean_of_X to store the value returned by our mean_value() function.\n",
    "mean_of_X = mean_func(X)\n",
    "\n",
    "# print out the value of mean_of_X.\n",
    "print(mean_of_X)"
   ]
  },
  {
   "cell_type": "markdown",
   "metadata": {},
   "source": [
    "Let us try out a few more examples here before we move on.\n",
    "\n",
    "*Example 2*\n",
    "\n",
    "Find the mean of the dataset $X_1 = [5, 6, 2, 0, 5, 8, 9, 10, 4]$\n",
    "\n",
    "_Answer_\n",
    "\n",
    "$\\bar x_1 = \\frac{\\sum{X_1}}{9} = \\frac{49}{9} \\approx 5.4$\n",
    "\n",
    "*Example 3*\n",
    "\n",
    "Find the mean of the dataset $X_2 = [23, 14, 6, 19, 50, 42, 16, 7, 15, 22, 8]$\n",
    "\n",
    "_Answer_\n",
    "\n",
    "$\\bar x_2 = \\frac{\\sum{X_2}}{11} = \\frac{222}{11} \\approx 20.2$"
   ]
  },
  {
   "cell_type": "markdown",
   "metadata": {},
   "source": [
    "Using our python mean function, we have the following:"
   ]
  },
  {
   "cell_type": "code",
   "execution_count": 3,
   "metadata": {},
   "outputs": [
    {
     "name": "stdout",
     "output_type": "stream",
     "text": [
      "5.444444444444445\n",
      "20.181818181818183\n"
     ]
    }
   ],
   "source": [
    "# Dataset for Example 2\n",
    "X1 = [5, 6, 2, 0, 5, 8, 9, 10, 4]\n",
    "\n",
    "# Dataset for Example 3\n",
    "X2 = [23, 14, 6, 19, 50, 42, 16,7, 15, 22, 8]\n",
    "\n",
    "# Compute the mean for dataset X1\n",
    "Ex2Answer = mean_func(X1)\n",
    "\n",
    "# Compute the mean for dataset X2\n",
    "Ex3Answer = mean_func(X2)\n",
    "\n",
    "print(Ex2Answer)\n",
    "print(Ex3Answer)"
   ]
  },
  {
   "cell_type": "markdown",
   "metadata": {},
   "source": [
    "**The median**"
   ]
  },
  {
   "cell_type": "markdown",
   "metadata": {},
   "source": [
    "The `median` of a dataset is the middle (positional) value of aa ordered (sorted) dataset.\n",
    "\n",
    "*Example 4*\n",
    "\n",
    "Consider the datasets \n",
    "\n",
    "$X = [5, 6, 2, 0, 5, 8, 9, 10, 4]$\n",
    "\n",
    "and \n",
    "\n",
    "$Y = [23, 14, 6, 19, 50, 42, 16,7, 22, 8]$\n",
    "\n",
    "The median of X is the middle value of X sorted in ascending order:\n",
    "\n",
    "Sorted $X = [0, 2, 4, 5, 5, 6, 8, 9, 10]$\n",
    "\n",
    "median = 5 (5 divides the entire dataset into two halves of equal lengths)\n",
    "\n",
    "The median of Y is the middle value of Y sorted in ascending order:\n",
    "\n",
    "Sorted $Y = [6, 7, 8, 14, 16, 19, 22, 23, 42, 50]$\n",
    "\n",
    "median = 17.5 (the value right in between 16 and 19)"
   ]
  },
  {
   "cell_type": "markdown",
   "metadata": {},
   "source": [
    "In python we can write our own median_func() that accepts a dataset and returns the median value. There are two cases to consider here: (1) a dataset with an odd number length and (2) a dataset with an even number length. We will use an `if-else` statement to decide on the action to take in each case."
   ]
  },
  {
   "cell_type": "code",
   "execution_count": 4,
   "metadata": {},
   "outputs": [],
   "source": [
    "def median_func(dataset):\n",
    "    # compute the size of the dataset\n",
    "    dataset_size = len(dataset)\n",
    "    \n",
    "    # sort dataset\n",
    "    dataset = sorted(dataset)\n",
    "    left = dataset_size // 2 - 1\n",
    "    right = left + 1\n",
    "    \n",
    "    # check case: (1) or (2)\n",
    "    if (dataset_size % 2 == 0): # case (1)\n",
    "        median_value = (dataset[left] + dataset[right])/2\n",
    "    else: # case (2)\n",
    "        median_value = dataset[left]\n",
    "    return dataset, median_value"
   ]
  },
  {
   "cell_type": "markdown",
   "metadata": {},
   "source": [
    "Let us now test out our `median` function on our datasets $X$ and $Y$."
   ]
  },
  {
   "cell_type": "code",
   "execution_count": 5,
   "metadata": {},
   "outputs": [
    {
     "name": "stdout",
     "output_type": "stream",
     "text": [
      "([0, 2, 4, 5, 5, 6, 8, 9, 10], 5)\n",
      "([6, 7, 8, 14, 16, 19, 22, 23, 42, 50], 17.5)\n"
     ]
    }
   ],
   "source": [
    "X3 = [5,6,2,0,5,8,9,10,4]\n",
    "X4 = [23,14,6,19,50,42,16,7,22,8]\n",
    "\n",
    "median_x3 = median_func(X3)\n",
    "median_x4 = median_func(X4)\n",
    "\n",
    "print(median_x3)\n",
    "print(median_x4)"
   ]
  },
  {
   "cell_type": "markdown",
   "metadata": {},
   "source": [
    "**The mode**"
   ]
  },
  {
   "cell_type": "markdown",
   "metadata": {},
   "source": [
    "The `mode` of a dataset is the data value that occurs most frequently in the dataset. For example, let us consider the dataset $𝑋=[5,6,2,0,5,8,9,10,4]$. In $X$, the data value 5 occurs twices as many times as any other value in the dataset so the `mode` of $X$ is 5. Let's try to write a python function to compute the mode of any dataset. The strategy we will use here is to generate a frequency distribution of the values in the dataset and then return the data value with the highest frequency. The python dictionary data structure is a great way to do this."
   ]
  },
  {
   "cell_type": "code",
   "execution_count": 6,
   "metadata": {},
   "outputs": [],
   "source": [
    "def mode_func(dataset):\n",
    "    \n",
    "    # declare an empty dictionary\n",
    "    freq_dist = {}\n",
    "    \n",
    "    # build the frequency distribution\n",
    "    for data in dataset:\n",
    "        if data in freq_dist:\n",
    "            freq_dist[data] += 1\n",
    "        else:\n",
    "            freq_dist[data] = 1\n",
    "    \n",
    "    # initialise a variables to store the highest frequency found and the data value it corresponds to. \n",
    "    largest_value = 0\n",
    "    mode_value = None\n",
    "    \n",
    "    # loop through the frequency distribution to find the highest frequency data value.\n",
    "    for data, value in freq_dist.items():\n",
    "        if value > largest_value:\n",
    "            largest_value = value\n",
    "            mode_value = data\n",
    "            \n",
    "    return mode_value, largest_value"
   ]
  },
  {
   "cell_type": "markdown",
   "metadata": {},
   "source": [
    "Let us now test out our mode function on the datset $X3$."
   ]
  },
  {
   "cell_type": "code",
   "execution_count": 7,
   "metadata": {},
   "outputs": [
    {
     "name": "stdout",
     "output_type": "stream",
     "text": [
      "(5, 2)\n"
     ]
    }
   ],
   "source": [
    "mode_x3 = mode_func(X3)\n",
    "print(mode_x3)"
   ]
  },
  {
   "cell_type": "markdown",
   "metadata": {},
   "source": [
    "To summarise, the `mean`, `median` and `mode` are summary statistics use to summarise data. They are commonly referred to as `measures of central tendency` as they give a measure or estimate of the central value of the dataset. In some cases, the are equivalent but mostly they will differ. depending on the nature of the dataset, one measure of central tendency may be more suitable than the other. We will explore this further later."
   ]
  },
  {
   "cell_type": "markdown",
   "metadata": {},
   "source": [
    "**Comparing measures of central tendency**"
   ]
  },
  {
   "cell_type": "markdown",
   "metadata": {},
   "source": [
    "Let us compare the mean, median and mode of the datsets $X3$ and $X4$."
   ]
  },
  {
   "cell_type": "code",
   "execution_count": 8,
   "metadata": {},
   "outputs": [],
   "source": [
    "# Dataset X3\n",
    "meanX3 = mean_func(X3)\n",
    "medianX3 = median_func(X3)\n",
    "modeX3 = mode_func(X3)\n",
    "\n",
    "# Dataset X4\n",
    "meanX4 = mean_func(X4)\n",
    "medianX4 = median_func(X4)\n",
    "modeX4 = mode_func(X4)"
   ]
  },
  {
   "cell_type": "markdown",
   "metadata": {},
   "source": [
    "Now let us print out statements that communicate the comparisons for each dataset"
   ]
  },
  {
   "cell_type": "code",
   "execution_count": 9,
   "metadata": {},
   "outputs": [
    {
     "name": "stdout",
     "output_type": "stream",
     "text": [
      "The mean of the dataset X3 is 5.444444444444445, then median is ([0, 2, 4, 5, 5, 6, 8, 9, 10], 5) and the mode is (5, 2)\n",
      "The mean of the dataset X4 is 20.7, then median is ([6, 7, 8, 14, 16, 19, 22, 23, 42, 50], 17.5) and the mode is (23, 1)\n"
     ]
    }
   ],
   "source": [
    "print(f\"The mean of the dataset X3 is {meanX3}, then median is {medianX3} and the mode is {modeX3}\")\n",
    "print(f\"The mean of the dataset X4 is {meanX4}, then median is {medianX4} and the mode is {modeX4}\")"
   ]
  },
  {
   "cell_type": "markdown",
   "metadata": {},
   "source": [
    "Notice that for $X3$, the measaures are approximatelt the same, but for $X4$, the values are quite different. The dataset $X3$ is more `normally distributed` (see more about this later), meaning that the data values are approximately evenly distributed around the mean. For $X4$, the mean lies more to the right of the centre value of the data so we say it is `skewed` (more about this later) to the left."
   ]
  },
  {
   "cell_type": "markdown",
   "metadata": {},
   "source": [
    "### Measures of Dispersion and Spread"
   ]
  },
  {
   "cell_type": "code",
   "execution_count": null,
   "metadata": {},
   "outputs": [],
   "source": []
  }
 ],
 "metadata": {
  "kernelspec": {
   "display_name": "Python 3",
   "language": "python",
   "name": "python3"
  },
  "language_info": {
   "codemirror_mode": {
    "name": "ipython",
    "version": 3
   },
   "file_extension": ".py",
   "mimetype": "text/x-python",
   "name": "python",
   "nbconvert_exporter": "python",
   "pygments_lexer": "ipython3",
   "version": "3.8.3"
  }
 },
 "nbformat": 4,
 "nbformat_minor": 4
}
