{
 "cells": [
  {
   "cell_type": "markdown",
   "metadata": {
    "slideshow": {
     "slide_type": "slide"
    }
   },
   "source": [
    "# The Binomial Theorem"
   ]
  },
  {
   "cell_type": "markdown",
   "metadata": {},
   "source": [
    "## Introduction"
   ]
  },
  {
   "cell_type": "markdown",
   "metadata": {},
   "source": [
    "The binomial theorem is a fundamental theorem in mathematics concerning the expansion of powers of binomials, $(a+b)^n$, in terms of a series of terms involving individual powers of $a$ and $b$ and some number $\\binom{n}{r}$ that is dependent on the power $n$ and the position $r$ of the particular term being considered. Before we look at the binomial theorem, we must first give consideration to the factorial function and the binomial coefficient. We start with the factorial function."
   ]
  },
  {
   "cell_type": "markdown",
   "metadata": {},
   "source": [
    "### The factorial function $f(x) = x!$"
   ]
  },
  {
   "cell_type": "markdown",
   "metadata": {},
   "source": [
    "**Function definition**\n",
    "\n",
    "The factorial function $f(n)$ is defined a $f(n) = n! = 1 \\cdot 2 \\cdot 3 \\dots (n-1) \\cdot n$ and where 0! is defined to be 1. Formally we have:\n",
    "\n",
    "$$f(x) = \\begin{cases}\n",
    "    1 \\cdot 2 \\cdot 3 \\dots (n-1) \\cdot n   & \\quad \\text{if } n > 0\\\\\n",
    "    1   & \\quad \\text{if } n \\le 0\n",
    "  \\end{cases}$$"
   ]
  },
  {
   "cell_type": "markdown",
   "metadata": {},
   "source": [
    "**Examples:**\n",
    "\n",
    "$$4! = 1 \\cdot 2 \\cdot 3 \\cdot 4 = 24$$\n",
    "\n",
    "$$6! = 1 \\cdot 2 \\cdot 3 \\cdot 4 \\cdot 5 \\cdot 6 = 720$$\n",
    "\n",
    "$$\\frac{8!}{5!} = 6 \\cdot 7 \\cdot 8 = 336$$"
   ]
  },
  {
   "cell_type": "markdown",
   "metadata": {},
   "source": [
    "**Python implementation**"
   ]
  },
  {
   "cell_type": "code",
   "execution_count": 1,
   "metadata": {},
   "outputs": [],
   "source": [
    "def cfactorial(n):\n",
    "    '''\n",
    "    Computes the factorial of positive integer n.\n",
    "    \n",
    "    Positional argument(s):\n",
    "    \n",
    "            n         -- positive integer\n",
    "    \n",
    "    Output value(s):\n",
    "    \n",
    "            retval    -- positive integer\n",
    "    '''\n",
    "    if n < 0:\n",
    "        raise ValueError(\"n must be a positive integer!\")\n",
    "    if n == 0:\n",
    "        retval = 1\n",
    "        return retval\n",
    "    else:\n",
    "        retval = n*cfactorial(n-1)\n",
    "        return retval"
   ]
  },
  {
   "cell_type": "markdown",
   "metadata": {},
   "source": [
    "**Test Cases**"
   ]
  },
  {
   "cell_type": "code",
   "execution_count": 5,
   "metadata": {},
   "outputs": [
    {
     "name": "stdout",
     "output_type": "stream",
     "text": [
      "0! is 1\n",
      "4! is 24\n",
      "6! is 720\n"
     ]
    }
   ],
   "source": [
    "result_statement = \"{0}! is {1}\"\n",
    "test_n = [0, 4, 6]\n",
    "\n",
    "for n in test_n:\n",
    "    print(result_statement.format(n, cfactorial(n)))"
   ]
  },
  {
   "cell_type": "markdown",
   "metadata": {},
   "source": [
    "### Pascal's Triangle"
   ]
  },
  {
   "cell_type": "markdown",
   "metadata": {},
   "source": [
    "**Introduction**"
   ]
  },
  {
   "cell_type": "markdown",
   "metadata": {},
   "source": [
    "Pascal's triangle is a recurrent sequence that starts with 1 at level 0. Each preceeding level starts and ends with 1, and the middle values are the sum of the neighbouring values above it. Pascal's triangle is related to the coefficients of the binomial expansion for $(x+y)^n$. This connection between expanding binomials and the Pascal Triangle makes it convenient to write out the series expansion for powers of $(x + a)^n$ where $n$ is small. For larger values, this becomes computationally expensive."
   ]
  },
  {
   "cell_type": "markdown",
   "metadata": {},
   "source": [
    "**Exercise**\n",
    "\n",
    "Use the Pascal Triangle to expand $(x + 2)^6$\n",
    "\n",
    "Use the Pascal's Triangle to find the coefficient of $x^3$ in the expansion of $(1 - 2x)^5$."
   ]
  },
  {
   "cell_type": "markdown",
   "metadata": {},
   "source": [
    "### The Binomial Coefficient"
   ]
  },
  {
   "cell_type": "markdown",
   "metadata": {},
   "source": [
    "The numbers that appear in Pascal's triangle are called binomial coefficients when they are viewed in the context of the expansion of $(x+y)^n$. The binomial coefficients are commonly represented as $nCr$ or $\\binom{n}{r}$ and is defined as:\n",
    "\n",
    "$$nCr = \\binom{n}{r} = \\frac{n!}{r! \\cdot (n-r)!}$$"
   ]
  },
  {
   "cell_type": "markdown",
   "metadata": {},
   "source": [
    "**Examples**"
   ]
  },
  {
   "cell_type": "markdown",
   "metadata": {},
   "source": [
    "Calculate, without using a calculator, the following:\n",
    "\n",
    "   a. $\\binom{4}{2}$\n",
    "\n",
    "   b. $\\binom{6}{2}$\n",
    "\n",
    "   c. $\\binom{5}{3}$\n",
    "   \n",
    "   d. $\\binom{6}{1}$"
   ]
  },
  {
   "cell_type": "markdown",
   "metadata": {},
   "source": [
    "**Function definition**"
   ]
  },
  {
   "cell_type": "code",
   "execution_count": 3,
   "metadata": {},
   "outputs": [],
   "source": [
    "def bin_coef(n, r):\n",
    "    \"\"\"\n",
    "    Computes the binomial coefficient nCr given positive integer n and non-negative integer r.\n",
    "    \n",
    "    Positional argument(s):\n",
    "    \n",
    "        n        -- positive integer\n",
    "        \n",
    "        r        -- non-negative integer\n",
    "    \n",
    "    Output:\n",
    "    \n",
    "        coef     -- positive integer \n",
    "    \"\"\"\n",
    "    \n",
    "    if n <= 0:\n",
    "        raise ValueError(\"n must be a positive integer!\")\n",
    "    \n",
    "    if r < 0:\n",
    "        raise ValueError(\"r must be a non-negative integer!\")\n",
    "        \n",
    "    if r > n:\n",
    "        raise ValueError(\"r cannot be larger than n\")\n",
    "    \n",
    "    coef = cfactorial(n) / (cfactorial(r) * cfactorial(n - r))\n",
    "    \n",
    "    return int(coef)"
   ]
  },
  {
   "cell_type": "markdown",
   "metadata": {},
   "source": [
    "**Test Cases**"
   ]
  },
  {
   "cell_type": "code",
   "execution_count": 4,
   "metadata": {},
   "outputs": [
    {
     "name": "stdout",
     "output_type": "stream",
     "text": [
      "[6, 15, 10, 6, 1]\n"
     ]
    }
   ],
   "source": [
    "test_data = [(4, 2), (6, 2), (5, 3), (6, 1), (7, 0)]\n",
    "\n",
    "test_results = [bin_coef(data[0], data[1]) for data in test_data]\n",
    "\n",
    "print(test_results)"
   ]
  },
  {
   "cell_type": "markdown",
   "metadata": {},
   "source": [
    "### The Binomial Theorem"
   ]
  },
  {
   "cell_type": "markdown",
   "metadata": {},
   "source": [
    "**Introduction**"
   ]
  },
  {
   "cell_type": "markdown",
   "metadata": {},
   "source": [
    "$$(x + y)^n = \\sum_{k=0}^{n}\\binom{n}{k}x^{n-k}y^k = x^n + \\binom{n}{1}x^{n-1}y + \\binom{n}{2}x^{n-2}y^2 + \\dots + \\binom{n}{n-1}xy^{n-1} + y^n$$\n",
    "\n",
    "where $$\\binom{n}{k} = \\frac{n!}{k! \\cdot (n-k)!}, n \\ge 0$$."
   ]
  },
  {
   "cell_type": "markdown",
   "metadata": {},
   "source": [
    "**A look at the exercise**"
   ]
  },
  {
   "cell_type": "markdown",
   "metadata": {},
   "source": [
    "$(x + 2)^6 = \\sum_{k=0}^{6}\\binom{6}{k}x^{6-k}\\cdot 2^k$\n",
    "\n",
    "$(x + 2)^6 = x^6 + \\binom{6}{1}2x^5 + \\binom{6}{2}2^{2}x^4 + \\binom{6}{3}2^{3}x^3 + \\binom{6}{4}2^{4}x^2 + \\binom{6}{5}2^{5}x + 2^6$"
   ]
  },
  {
   "cell_type": "markdown",
   "metadata": {},
   "source": [
    "### Binomial expansion"
   ]
  },
  {
   "cell_type": "markdown",
   "metadata": {},
   "source": [
    "1. Write down the first 3 terms of the following:\n",
    "\n",
    "   1. $(x - 1)^5$\n",
    "   2. $(2x - 3)^7$\n",
    "   3. $(1 - 2x)^9$\n",
    "   \n",
    "2. What is the coefficient of the $x^2$ term in the expansion of $(1 + \\frac{x}{2})^6$?\n",
    "\n",
    "3. What is the coefficient of the $x^3$ term in the expansion of $(1 - 2x)^5$?"
   ]
  },
  {
   "cell_type": "markdown",
   "metadata": {},
   "source": [
    "### Approximating powers and roots of real numbers"
   ]
  },
  {
   "cell_type": "markdown",
   "metadata": {},
   "source": [
    "Use the binomial theorem to approximate the value of the following:\n",
    "\n",
    "1. $1.02^{20}$\n",
    "\n",
    "2. $1.95^9$\n",
    "\n",
    "3. $(1.25)^5(1.64)^7$"
   ]
  }
 ],
 "metadata": {
  "kernelspec": {
   "display_name": "Python 3",
   "language": "python",
   "name": "python3"
  },
  "language_info": {
   "codemirror_mode": {
    "name": "ipython",
    "version": 3
   },
   "file_extension": ".py",
   "mimetype": "text/x-python",
   "name": "python",
   "nbconvert_exporter": "python",
   "pygments_lexer": "ipython3",
   "version": "3.8.5"
  }
 },
 "nbformat": 4,
 "nbformat_minor": 4
}
